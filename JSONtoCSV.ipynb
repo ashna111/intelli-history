{
 "cells": [
  {
   "cell_type": "code",
   "execution_count": 1,
   "metadata": {},
   "outputs": [],
   "source": [
    "import json"
   ]
  },
  {
   "cell_type": "code",
   "execution_count": 2,
   "metadata": {},
   "outputs": [],
   "source": [
    "x =  '{ \"name\":\"John\", \"age\":30, \"city\":\"New York\"}'"
   ]
  },
  {
   "cell_type": "code",
   "execution_count": 3,
   "metadata": {},
   "outputs": [],
   "source": [
    "y = json.loads(x)"
   ]
  },
  {
   "cell_type": "code",
   "execution_count": 4,
   "metadata": {},
   "outputs": [
    {
     "name": "stdout",
     "output_type": "stream",
     "text": [
      "30\n"
     ]
    }
   ],
   "source": [
    "print(y[\"age\"])"
   ]
  },
  {
   "cell_type": "code",
   "execution_count": 6,
   "metadata": {},
   "outputs": [],
   "source": [
    "para = {\n",
    "    \"articles\": ['a','the'],\n",
    "    \"lang\": 'en',\n",
    "    \"sentences\": ['Hi, this is sentence 1', 'sentence number two'],\n",
    "    \"tokens_sentences\": ['number', 'hello'],\n",
    "    \"POS_tokens\": ['NN', 'NNP', 'N'],\n",
    "    \"tokens_sentences_lemmatized\": ['city', 's', 'be'],\n",
    "    \"tokens\": ['hi', 'hello']\n",
    "}"
   ]
  },
  {
   "cell_type": "code",
   "execution_count": 7,
   "metadata": {},
   "outputs": [],
   "source": [
    "y = json.dumps(para)"
   ]
  },
  {
   "cell_type": "code",
   "execution_count": 8,
   "metadata": {},
   "outputs": [
    {
     "data": {
      "text/plain": [
       "'{\"articles\": [\"a\", \"the\"], \"lang\": \"en\", \"sentences\": [\"Hi, this is sentence 1\", \"sentence number two\"], \"tokens_sentences\": [\"number\", \"hello\"], \"POS_tokens\": [\"NN\", \"NNP\", \"N\"], \"tokens_sentences_lemmatized\": [\"city\", \"s\", \"be\"], \"tokens\": [\"hi\", \"hello\"]}'"
      ]
     },
     "execution_count": 8,
     "metadata": {},
     "output_type": "execute_result"
    }
   ],
   "source": [
    "y"
   ]
  },
  {
   "cell_type": "code",
   "execution_count": null,
   "metadata": {},
   "outputs": [],
   "source": []
  }
 ],
 "metadata": {
  "kernelspec": {
   "display_name": "Python 3",
   "language": "python",
   "name": "python3"
  },
  "language_info": {
   "codemirror_mode": {
    "name": "ipython",
    "version": 3
   },
   "file_extension": ".py",
   "mimetype": "text/x-python",
   "name": "python",
   "nbconvert_exporter": "python",
   "pygments_lexer": "ipython3",
   "version": "3.7.0"
  }
 },
 "nbformat": 4,
 "nbformat_minor": 2
}
