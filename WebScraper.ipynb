{
 "cells": [
  {
   "cell_type": "code",
   "execution_count": 40,
   "metadata": {},
   "outputs": [],
   "source": [
    "import pandas as pd\n",
    "import numpy as np\n",
    "import matplotlib.pyplot as plt\n",
    "import seaborn as sns\n",
    "%matplotlib inline"
   ]
  },
  {
   "cell_type": "code",
   "execution_count": 41,
   "metadata": {},
   "outputs": [],
   "source": [
    "from urllib.request import urlopen\n",
    "from bs4 import BeautifulSoup"
   ]
  },
  {
   "cell_type": "code",
   "execution_count": 42,
   "metadata": {},
   "outputs": [],
   "source": [
    "import requests"
   ]
  },
  {
   "cell_type": "code",
   "execution_count": 43,
   "metadata": {},
   "outputs": [],
   "source": [
    "# url = \"https://medium.com/ninjaconcept/interactive-dynamic-force-directed-graphs-with-d3-da720c6d7811\"\n",
    "# html = urlopen(url)"
   ]
  },
  {
   "cell_type": "code",
   "execution_count": 44,
   "metadata": {},
   "outputs": [],
   "source": [
    "url = \"https://medium.com/ninjaconcept/interactive-dynamic-force-directed-graphs-with-d3-da720c6d7811\"\n",
    "headers = {'User-Agent':'Mozilla/5.0'}\n",
    "page = requests.get(url)\n",
    "soup = BeautifulSoup(page.text, \"html.parser\")\n"
   ]
  },
  {
   "cell_type": "code",
   "execution_count": 45,
   "metadata": {},
   "outputs": [],
   "source": [
    "# soup = BeautifulSoup(html, 'lxml')\n",
    "# type(soup)"
   ]
  },
  {
   "cell_type": "code",
   "execution_count": 48,
   "metadata": {},
   "outputs": [
    {
     "name": "stdout",
     "output_type": "stream",
     "text": [
      "<title>Interactive &amp; Dynamic Force-Directed Graphs with D3</title>\n",
      "Interactive & Dynamic Force-Directed Graphs with D3\n"
     ]
    }
   ],
   "source": [
    "title = soup.title\n",
    "print(title)\n",
    "print(title.contents[0])"
   ]
  },
  {
   "cell_type": "code",
   "execution_count": 60,
   "metadata": {},
   "outputs": [],
   "source": [
    "text = soup.get_text()\n",
    "# print(text)"
   ]
  },
  {
   "cell_type": "code",
   "execution_count": 63,
   "metadata": {},
   "outputs": [
    {
     "name": "stdout",
     "output_type": "stream",
     "text": [
      "A guided tour through D3 version 4.0 force simulations with dynamic data and user interaction\n"
     ]
    }
   ],
   "source": [
    "# all_headings = soup.find_all(\"h\")\n",
    "# soup.find_all(re.compile('^h[1-6]$'))\n",
    "page = BeautifulSoup(requests.get(url).text, \"lxml\")\n",
    "for headlines in page.find_all(\"h2\"):\n",
    "    print(headlines.text.strip())"
   ]
  },
  {
   "cell_type": "code",
   "execution_count": 56,
   "metadata": {},
   "outputs": [],
   "source": [
    "for heading in all_headings:\n",
    "    print(heading)"
   ]
  },
  {
   "cell_type": "code",
   "execution_count": 53,
   "metadata": {},
   "outputs": [],
   "source": [
    "all_paragraphs = soup.find_all(\"p\")"
   ]
  },
  {
   "cell_type": "code",
   "execution_count": 59,
   "metadata": {},
   "outputs": [
    {
     "name": "stdout",
     "output_type": "stream",
     "text": [
      "Many companies have a tremendous amount of data which is not just hard to maintain and manage, but also hard to understand and analyse. Here, data visualisation should find a remedy. The main goal is to communicate information clearly and efficiently which improves the overall experience.\n",
      "In this post, I want to explain how we, at \n",
      "<a class=\"markup--anchor markup--p-anchor\" data-href=\"https://www.ninjaconcept.com\" href=\"https://www.ninjaconcept.com\" rel=\"nofollow noopener\" target=\"_blank\">NinjaConcept</a>\n",
      ", used D3 to create an interactive and dynamic force-directed graph which helped us to display nested data with complex relations in a simple natural way.\n",
      "Before we start, I want to explain which requirements we had to fulfill. This might help to understand our decisions better.\n",
      "First of all, the data we had to display was composed of both specially prepared data as well as extractions of the companies long-standing knowledge management system(s).\n",
      "<br/>\n",
      "The hardware requirement was very interesting, too. The graph would have to be build primarily for the new \n",
      "<a class=\"markup--anchor markup--p-anchor\" data-href=\"https://www.microsoft.com/microsoft-surface-hub/\" href=\"https://www.microsoft.com/microsoft-surface-hub/\" rel=\"nofollow noopener\" target=\"_blank\">Microsoft Surface Hub</a>\n",
      ", which had a lot of fun playing with. Though, the exiting part was to create a touch-focused interactive app that leverages the advantage of the multi-touch device.\n",
      "As soon as we knew all of the customers requirements, we had to think about which technologies we would use to build the application. After several research and comparison, we chose to use React as our primary user interface library which we would later integrate with D3 and a Meteor backend to serve all the data and other services.\n",
      "We chose D3 not just because of its popularity and bulletproof core, but especially because of the amazing physical tools provided by \n",
      "<a class=\"markup--anchor markup--p-anchor\" data-href=\"https://github.com/d3/d3-force\" href=\"https://github.com/d3/d3-force\" rel=\"nofollow noopener\" target=\"_blank\">d3-force</a>\n",
      ".\n",
      "D3 is all about (complex) data visualisation. Our goal was to build a force-directed graph similar to \n",
      "<a class=\"markup--anchor markup--p-anchor\" data-href=\"https://bl.ocks.org/mbostock/4062045\" href=\"https://bl.ocks.org/mbostock/4062045\" rel=\"nofollow noopener\" target=\"_blank\">this example</a>\n",
      " by D3’s creator \n",
      "<a class=\"markup--anchor markup--p-anchor\" data-href=\"https://bost.ocks.org/mike/\" href=\"https://bost.ocks.org/mike/\" rel=\"nofollow noopener\" target=\"_blank\">Mike Bostock</a>\n",
      " himself.\n",
      "<br/>\n",
      "It is based on d3-force and uses the \n",
      "<a class=\"markup--anchor markup--p-anchor\" data-href=\"https://github.com/d3/d3-force#simulation\" href=\"https://github.com/d3/d3-force#simulation\" rel=\"nofollow noopener\" target=\"_blank\">forceSimulation API</a>\n",
      ".\n",
      "Every simulation effectively takes a list of data objects and uses them as \n",
      "<strong class=\"markup--strong markup--p-strong\">nodes</strong>\n",
      ". Think of those nodes as the data bubbles in the above mentioned example.\n",
      "For simplicity, we are using a very basic example set of nodes to focus on the implementation. We are using the following list of animals and animal species, where the animals are sub-nodes of the species.\n",
      "The key is a unique node id and the level references the level of nesting. The group references one of these groups:\n",
      "Another important feature of force simulations are links. They connect nodes to display (complex) \n",
      "<strong class=\"markup--strong markup--p-strong\">relations</strong>\n",
      ". Every link needs to have at least a \n",
      "<strong class=\"markup--strong markup--p-strong\">source</strong>\n",
      " and a \n",
      "<strong class=\"markup--strong markup--p-strong\">target</strong>\n",
      ". Both are ids referencing one of the above nodes.\n",
      "Next to special links, every sub-node \n",
      "<em class=\"markup--em markup--p-em\">(with level &gt; 1)</em>\n",
      " is at least linked to its parent node. We are using the following links:\n",
      "Before we finally start with the implementation, let me describe how we went on. First of all we tried to simply display all the nodes in colored groups. Then we’d add relations (links) and user interaction through touch events. Afterwards we made the whole graph dynamic by default which means adding and removing nodes and links depending on the current selection. Finally, we applied some styling to make the whole graph not only feel great, but actually look great as well.\n",
      "To start simple, first of all we need to somehow display our data in a force-directed graph using D3. Luckily, this is really straight-forward as we can just take the responsible code snippets from the above mentioned example.\n",
      "Let’s start by selecting a svg element with D3, which will function as a canvas for our graph later. We then set its \n",
      "<em class=\"markup--em markup--p-em\">width</em>\n",
      " and \n",
      "<em class=\"markup--em markup--p-em\">height</em>\n",
      " to fill the window.\n",
      "Now that we have our container ready, we can create \n",
      "<em class=\"markup--em markup--p-em\">forceSimulation</em>\n",
      " instance. We also add two different forces. The first one, \n",
      "<strong class=\"markup--strong markup--p-strong\"><em class=\"markup--em markup--p-em\">charge</em> </strong>\n",
      "is global force that affects \n",
      "<strong class=\"markup--strong markup--p-strong\">every</strong>\n",
      " node. It simulates electrostatic effects, which makes the graph feel organic and natural as the nodes affect each other. If we’d use a positive \n",
      "<em class=\"markup--em markup--p-em\">strength</em>\n",
      ", it’d simulate a gravitational pull.\n",
      "<br/>\n",
      "The second one, \n",
      "<strong class=\"markup--strong markup--p-strong\"><em class=\"markup--em markup--p-em\">center</em></strong>\n",
      ", simply translates all nodes to visually move them into the center of the svg element.\n",
      "To draw the \n",
      "<em class=\"markup--em markup--p-em\">circle</em>\n",
      " and \n",
      "<em class=\"markup--em markup--p-em\">text</em>\n",
      " elements (nodes), we will add two additional \n",
      "<em class=\"markup--em markup--p-em\">g </em>\n",
      "elements and use the \n",
      "<em class=\"markup--em markup--p-em\">nodes</em>\n",
      "-array as data source. In order to differentiate species from animals, we will use different colors for their respective circles.\n",
      "<br/>\n",
      "Despite to basic attributes such as \n",
      "<em class=\"markup--em markup--p-em\">r</em>\n",
      ", \n",
      "<em class=\"markup--em markup--p-em\">fill</em>\n",
      " or \n",
      "<em class=\"markup--em markup--p-em\">font-size</em>\n",
      ", we also used \n",
      "<em class=\"markup--em markup--p-em\">dx</em>\n",
      " and \n",
      "<em class=\"markup--em markup--p-em\">dy</em>\n",
      " to relatively position the \n",
      "<em class=\"markup--em markup--p-em\">text</em>\n",
      " elements to the right of the \n",
      "<em class=\"markup--em markup--p-em\">nodes</em>\n",
      ".\n",
      "Finally, we need to start the simulation and define a tick functions that is executed on every simulation tick. There, we will basically update the \n",
      "<strong class=\"markup--strong markup--p-strong\">coordinates</strong>\n",
      " of both \n",
      "<em class=\"markup--em markup--p-em\">node</em>\n",
      " and \n",
      "<em class=\"markup--em markup--p-em\">text</em>\n",
      " elements.\n",
      "With our basic data displayed, we now want to show all the relations (links) to understand the connections between the nodes. Links also create forces which either push nodes together or apart depending on the applied strength. This is the point where we make use of the above defined strength for each link: specie-animal relations will have stronger forces to group the nodes tighter together, while cross-relations will pull much softer.\n",
      "We start by adding the \n",
      "<strong class=\"markup--strong markup--p-strong\"><em class=\"markup--em markup--p-em\">link</em></strong>\n",
      " force to our simulation.\n",
      "Then we can create the \n",
      "<em class=\"markup--em markup--p-em\">line</em>\n",
      " elements to display our \n",
      "<em class=\"markup--em markup--p-em\">links</em>\n",
      " respectively. This works basically the same as the\n",
      "<em class=\"markup--em markup--p-em\"> circle</em>\n",
      " and \n",
      "<em class=\"markup--em markup--p-em\">text</em>\n",
      " elements as well.\n",
      "In order to move the links on every tick, we add the following snippet to the \n",
      "<em class=\"markup--em markup--p-em\">tick</em>\n",
      "-function.\n",
      "In a final step we need to apply all \n",
      "<em class=\"markup--em markup--p-em\">links</em>\n",
      " to the \n",
      "<strong class=\"markup--strong markup--p-strong\"><em class=\"markup--em markup--p-em\">link</em></strong>\n",
      " force.\n",
      "To be able to interact with the graph, we at least need drag & drop. Again, D3 already provides a nice API to add D&D without pain. This was basically copied from the example as well. The \n",
      "<em class=\"markup--em markup--p-em\">alphaTarget</em>\n",
      " adjustments help us to create a more natural feeling and to rerun the simulation after the drop.\n",
      "<strong class=\"markup--strong markup--p-strong\">Drag &amp; Drop</strong>\n",
      "To activate the \n",
      "<em class=\"markup--em markup--p-em\">dragDrop</em>\n",
      " events, we only need to add it to the \n",
      "<em class=\"markup--em markup--p-em\">nodeElements</em>\n",
      ".\n",
      "<strong class=\"markup--strong markup--p-strong\">Highlight Selection</strong>\n",
      "Additionally, we wanted to be able to select nodes in order to highlight their relations. To highlight the selection with all its connection we need to know two things.\n",
      "This turns out to be very basic. We simply iterate all links and check if either the \n",
      "<em class=\"markup--em markup--p-em\">target</em>\n",
      " or the \n",
      "<em class=\"markup--em markup--p-em\">source</em>\n",
      " match the \n",
      "<em class=\"markup--em markup--p-em\">node’s</em>\n",
      " \n",
      "<strong class=\"markup--strong markup--p-strong\">id</strong>\n",
      ". If yes, we add the counterpart, which then obviously is a direct neighbor. \n",
      "<em class=\"markup--em markup--p-em\">e.g. If the target.id matches the node.id, we add the source.id to the neighbors-list</em>\n",
      ". (see \n",
      "<em class=\"markup--em markup--p-em\">getNeighbors</em>\n",
      ")\n",
      "To determine if a link connects the clicked node with one of its neighbors, we basically do the same. A link is a “connection-link” if \n",
      "<strong class=\"markup--strong markup--p-strong\">either</strong>\n",
      " the\n",
      "<em class=\"markup--em markup--p-em\"> target.id</em>\n",
      " \n",
      "<strong class=\"markup--strong markup--p-strong\">or</strong>\n",
      " the \n",
      "<em class=\"markup--em markup--p-em\">source.id</em>\n",
      " match the \n",
      "<em class=\"markup--em markup--p-em\">node.id</em>\n",
      ". (see \n",
      "<em class=\"markup--em markup--p-em\">isNeighborLink</em>\n",
      ")\n",
      "A simple way to visually highlight the nodes and links is by changing their colors. Therefore, we will use the below functions \n",
      "<em class=\"markup--em markup--p-em\">getTextColor</em>\n",
      ", \n",
      "<em class=\"markup--em markup--p-em\">getLinkColor</em>\n",
      " and \n",
      "<em class=\"markup--em markup--p-em\">getNodeColor</em>\n",
      " (which replaces the previous \n",
      "<em class=\"markup--em markup--p-em\">getNodeColor</em>\n",
      ").\n",
      "<br/>\n",
      "Now, all highlighted animal nodes will be colored green, all specie nodes blue. “connection-links” will be colored in green as well.\n",
      "Bringing it all together, we have the following \n",
      "<em class=\"markup--em markup--p-em\">selectNode</em>\n",
      "-function. It updates the colors of all nodes, texts and links depending on their “neighborhood-status”.\n",
      "Last but not least, we need to add a \n",
      "<strong class=\"markup--strong markup--p-strong\">click-event listener</strong>\n",
      " to every node element which calls \n",
      "<em class=\"markup--em markup--p-em\">selectNode</em>\n",
      ".\n",
      "We already have a nice overview of our data, but that is still not enough. Often, data is not something static, but highly dynamic and frequently changes in the course of time. Therefore, we want the graph to update on every change.\n",
      "<br/>\n",
      "Also, with growing data, the graph gets more and more overgrowded and thus confusing and won’t feel very user-friendly anymore. By hiding many sub-nodes to only show up when they’re effectively required \n",
      "<em class=\"markup--em markup--p-em\">(e.g. if they have connections to the currently selected node).</em>\n",
      "That’s why, for both cases, we need the ability to update the graph without a complete reload. Otherwise the simulation would restart and all efforts to ship a user-friendly application would ultimately be destroyed.\n",
      "Luckily, D3 got us covered (again) with a great example on how to directly modify force-directed graphs. It uses the recommended update pattern, which can be described as: \n",
      "<strong class=\"markup--strong markup--p-strong\">Mutate &gt; Replace.</strong>\n",
      "<strong class=\"markup--strong markup--p-strong\">Updating the Data</strong>\n",
      "First of all, we need to mutate our data. As we directly mutate the \n",
      "<em class=\"markup--em markup--p-em\">nodes</em>\n",
      " and \n",
      "<em class=\"markup--em markup--p-em\">links</em>\n",
      ", we use a copy with all nodes and links for reference. To actually mutate the nodes, we need to know which nodes get removed and which get added. We again use the neighbors to check which nodes to display. The species nodes should always be visible though.\n",
      "Therefore we are generating a diff. Then, we simply use the diff to add and remove the affected nodes. The same method also applies to the links, although we do not need to mutate them, but can create a whole new array of links as well.\n",
      "<strong class=\"markup--strong markup--p-strong\">Updating the Nodes &amp; Links</strong>\n",
      "Now that we have both \n",
      "<em class=\"markup--em markup--p-em\">nodes</em>\n",
      " and \n",
      "<em class=\"markup--em markup--p-em\">links</em>\n",
      " up-to-date, we need to update the DOM elements to correctly display the new data. D3 will try to reuse existing nodes to only mutate the minimum set of elements. \n",
      "<strong class=\"markup--strong markup--p-strong\">That the reason why we mutate the data rather than overwriting it.</strong>\n",
      "We need to modularize the element creation in order to react on updates. Using special svg groups helps us to better group the elements together:\n",
      "Updating existing elements requires to remove old ones and then merge the new ones. Again, D3 has a pretty straightforward pattern to do so.\n",
      "We will repeat the exact same pattern for both nodes and texts as well and wrap the snippets inside the so-called \n",
      "<em class=\"markup--em markup--p-em\">updateGraph</em>\n",
      "-method to later reuse it.\n",
      "<strong class=\"markup--strong markup--p-strong\">Updating the Simulation</strong>\n",
      "Last but not least, we need to update the simulation to apply the above changes. The following function will update the graph using the above \n",
      "<em class=\"markup--em markup--p-em\">updateGraph</em>\n",
      "-method. Afterwards it reinitialises the simulation with the new nodes and links and then restart it.\n",
      "To dynamically update the graph depending on the users interaction, we can embed the \n",
      "<em class=\"markup--em markup--p-em\">updateData</em>\n",
      " and \n",
      "<em class=\"markup--em markup--p-em\">updateSimulation</em>\n",
      "-methods into the \n",
      "<em class=\"markup--em markup--p-em\">selectNode</em>\n",
      "-method that is called on every node.\n",
      "Now that we have all the logic ready to ship a highly dynamic and interactive graph, we can make it look awesome with basic styling techniques. I will not go into detail here, but just check out the preview at the begining of this posts, to see what’s possible without any further tooling and skill.\n",
      "All code examples are hosted on GitHub. We provide \n",
      "<a class=\"markup--anchor markup--p-anchor\" data-href=\"https://github.com/ninjaconcept/d3-force-directed-graph/tree/master/example\" href=\"https://github.com/ninjaconcept/d3-force-directed-graph/tree/master/example\" rel=\"nofollow noopener\" target=\"_blank\">ready-to-run examples</a>\n",
      " wrapped inside a \n",
      "<em class=\"markup--em markup--p-em\">.html</em>\n",
      " file directly. Also, there is a \n",
      "<a class=\"markup--anchor markup--p-anchor\" data-href=\"https://github.com/ninjaconcept/d3-force-directed-graph/tree/master/code\" href=\"https://github.com/ninjaconcept/d3-force-directed-graph/tree/master/code\" rel=\"nofollow noopener\" target=\"_blank\">code-folder</a>\n",
      " that contains the complete code in modular ES2015 syntax. Check it out: \n",
      "<a class=\"markup--anchor markup--p-anchor\" data-href=\"https://github.com/ninjaconcept/d3-force-directed-graph\" href=\"https://github.com/ninjaconcept/d3-force-directed-graph\" rel=\"nofollow noopener\" target=\"_blank\">https://github.com/ninjaconcept/d3-force-directed-graph</a>\n",
      "<em class=\"markup--em markup--p-em\">To keep it short:</em>\n",
      " \n",
      "<strong class=\"markup--strong markup--p-strong\">Working with D3 is a pleasure. <br/></strong>\n",
      "We had a lot of fun experimenting with the force simulation API the result is yet quite impressive.\n",
      "At \n",
      "<a class=\"markup--anchor markup--p-anchor\" data-href=\"https://www.ninjaconcept.com\" href=\"https://www.ninjaconcept.com\" rel=\"nofollow noopener\" target=\"_blank\">NinjaConcept</a>\n",
      ", we will definitely use it again soon!\n",
      "Frontend Architect. Freelancer. Creating Fela. Studying Psychology & CS. Musician. Runner. All about Functional UI. CSS (in JS), JavaScript, ReasonML.\n",
      "Hi! We’re NinjaConcept, a web consultancy with leading-edge development skills and a passion for outstanding user experience design.\n"
     ]
    }
   ],
   "source": [
    "for para in all_paragraphs:\n",
    "    for child in para.children:\n",
    "        print(child)\n",
    "\n"
   ]
  },
  {
   "cell_type": "code",
   "execution_count": null,
   "metadata": {},
   "outputs": [],
   "source": []
  }
 ],
 "metadata": {
  "kernelspec": {
   "display_name": "Python 3",
   "language": "python",
   "name": "python3"
  },
  "language_info": {
   "codemirror_mode": {
    "name": "ipython",
    "version": 3
   },
   "file_extension": ".py",
   "mimetype": "text/x-python",
   "name": "python",
   "nbconvert_exporter": "python",
   "pygments_lexer": "ipython3",
   "version": "3.7.0"
  }
 },
 "nbformat": 4,
 "nbformat_minor": 2
}
