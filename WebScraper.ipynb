{
 "cells": [
  {
   "cell_type": "code",
   "execution_count": 1,
   "metadata": {},
   "outputs": [],
   "source": [
    "import pandas as pd\n",
    "import numpy as np\n",
    "import matplotlib.pyplot as plt\n",
    "import seaborn as sns\n",
    "%matplotlib inline"
   ]
  },
  {
   "cell_type": "code",
   "execution_count": 2,
   "metadata": {},
   "outputs": [],
   "source": [
    "import nltk\n",
    "from nltk.tokenize import word_tokenize, sent_tokenize\n",
    "from nltk.corpus import stopwords\n",
    "from nltk.probability import FreqDist\n",
    "from collections import defaultdict\n",
    "from heapq import nlargest\n",
    "from string import punctuation\n",
    "from bs4 import SoupStrainer"
   ]
  },
  {
   "cell_type": "code",
   "execution_count": 3,
   "metadata": {},
   "outputs": [
    {
     "name": "stderr",
     "output_type": "stream",
     "text": [
      "[nltk_data] Downloading package punkt to /home/anushka/nltk_data...\n",
      "[nltk_data]   Package punkt is already up-to-date!\n",
      "[nltk_data] Downloading package stopwords to\n",
      "[nltk_data]     /home/anushka/nltk_data...\n",
      "[nltk_data]   Package stopwords is already up-to-date!\n"
     ]
    },
    {
     "data": {
      "text/plain": [
       "True"
      ]
     },
     "execution_count": 3,
     "metadata": {},
     "output_type": "execute_result"
    }
   ],
   "source": [
    "nltk.download('punkt')\n",
    "nltk.download('stopwords')"
   ]
  },
  {
   "cell_type": "code",
   "execution_count": 4,
   "metadata": {},
   "outputs": [],
   "source": [
    "from urllib.request import urlopen\n",
    "from bs4 import BeautifulSoup"
   ]
  },
  {
   "cell_type": "code",
   "execution_count": 5,
   "metadata": {},
   "outputs": [],
   "source": [
    "import requests"
   ]
  },
  {
   "cell_type": "code",
   "execution_count": null,
   "metadata": {},
   "outputs": [],
   "source": [
    "# url = \"https://medium.com/ninjaconcept/interactive-dynamic-force-directed-graphs-with-d3-da720c6d7811\"\n",
    "# html = urlopen(url)"
   ]
  },
  {
   "cell_type": "code",
   "execution_count": 6,
   "metadata": {},
   "outputs": [],
   "source": [
    "def is_long_string(string):\n",
    "    return len(string) > 50"
   ]
  },
  {
   "cell_type": "code",
   "execution_count": 31,
   "metadata": {},
   "outputs": [
    {
     "name": "stdout",
     "output_type": "stream",
     "text": [
      "<class 'requests.models.Response'>\n"
     ]
    }
   ],
   "source": [
    "url = \"https://www.indiatoday.in/india/story/ghosts-did-not-vote-2019-lok-sabha-polls-data-mismatch-election-commission-1540291-2019-06-01\"\n",
    "headers = {'User-Agent':'Mozilla/5.0'}\n",
    "page = requests.get(url)\n",
    "\n",
    "print(type(page))"
   ]
  },
  {
   "cell_type": "code",
   "execution_count": 32,
   "metadata": {},
   "outputs": [],
   "source": [
    "only_long_strings = SoupStrainer(string=is_long_string)"
   ]
  },
  {
   "cell_type": "code",
   "execution_count": 33,
   "metadata": {},
   "outputs": [],
   "source": [
    "soup = BeautifulSoup(page.content, \"html.parser\")"
   ]
  },
  {
   "cell_type": "code",
   "execution_count": 34,
   "metadata": {},
   "outputs": [],
   "source": [
    "blacklist = [\n",
    "  'style',\n",
    "  'script',\n",
    "  # other elements,\n",
    "]\n",
    "\n",
    "content = [t for t in soup.find_all(text=True) if t.parent.name not in blacklist]"
   ]
  },
  {
   "cell_type": "code",
   "execution_count": 35,
   "metadata": {},
   "outputs": [
    {
     "name": "stdout",
     "output_type": "stream",
     "text": [
      "['html', '[if IEMobile 7]><html class=\"iem7\" lang=\"en\" dir=\"ltr\"><![endif]', '[if lte IE 6]><html class=\"lt-ie9 lt-ie8 lt-ie7\" lang=\"en\" dir=\"ltr\"><![endif]', '[if (IE 7)&(!IEMobile)]><html class=\"lt-ie9 lt-ie8\" lang=\"en\" dir=\"ltr\"><![endif]', '[if IE 8]><html class=\"lt-ie9\" lang=\"en\" dir=\"ltr\"><![endif]', '[if (gte IE 9)|(gt IEMobile 7)]><!', '<![endif]', \"Ghosts didn't vote in Lok Sabha polls, all were humans, says EC rubbishing claims on data mismatch - India News\", ' ', '[if IE]><![endif]', '\\n', '\\n', '[if IEMobile]><meta http-equiv=\"cleartype\" content=\"on\"><![endif]', ' ', '[if lt IE 9]>\\n<script src=\"/sites/all/themes/zen/js/html5-respond.js\"></script>\\n<![endif]', '\\n', '\\n', ' ', 'Jump to navigation', '\\n', '\\n', '\\n', '\\n', '\\n', '\\n', '\\n', '\\n', '\\n', '\\n', ' ', ' ', 'News', 'LIVE TV', ' ', 'APP', 'Magazine', ' ', ' ', ' Login', ' ', ' ', ' ', 'Home', ' ', 'World Cup 2019', ' ', 'Videos', ' ', 'India', ' ', 'Movies', ' ', 'Tech', ' ', 'Best Colleges 2019', ' ', 'Sports', ' ', 'Fact Check', ' ', 'Trending', ' ', 'Auto', ' ', 'Television', ' ', 'Business', ' ', 'Education', ' ', 'Lifestyle', ' ', 'World', ' ', 'FYI', ' ', 'Photo', ' ', 'Mail Today', ' ', 'Care Today', ' ', 'Programme', ' ', ' ', ' ', ' ', ' ', ' ', ' ', ' ', 'News', 'India', ' ', ' ', ' ', ' ', ' ', '\\n', '\\n', ' ', \"Ghosts didn't vote in Lok Sabha polls, all were humans, says EC rubbishing claims on data mismatch\", 'Concerns have been raised that in many constituencies the total number of votes polled does not match with the votes counted on the result day.', 'advertisement', '\\n', '\\n', '\\n', ' ', ' ', 'India Today Web Desk', ' ', ' New Delhi', 'June 1, 2019', 'UPDATED: June 1, 2019 19:32 IST', ' ', ' ', 'Image for representation. (Photo: Reuters)', 'HIGHLIGHTS', 'Election Commission of India issued a clarification saying all votes in 2019 Lok Sabha election were cast by humans', 'EC said voting percentage data on its website was provisional', 'Clarification in response to allegations that there was mismatch between total votes polled and total votes counted on EVMs', 'The Election Commission of India on Saturday issued a clarification saying all votes in 2019 Lok Sabha election were cast by humans and not ghosts. The clarification was in response to allegations that there was a mismatch between total votes polled and total votes counted on EVMs during the 2019 Lok Sabha elections.', \"Since May 23, when results of the Lok Sabha election were announced, concerns have been raised that in many constituencies the total number of votes polled (as per the voter turnout figures released by EC) does not match with the votes counted on the result day. These alleged excess votes are termed as 'ghost votes'.\", 'Media reports had pointed out that in some constituencies the total votes polled was less than that votes counted on EVMs while in some the votes polled were more than the ones counted on May 23.', 'In a report, ', 'The Quint ', \"claimed that its analysis shows that this mismatch was found in 373 Lok Sabha constituencies. The difference in votes, as per this report, ranged between 18,331 additional votes in Tamil Nadu's Kanchipuram seat to 19,776 deficit votes in Tripura West.\", 'The Election Commission has now reasoned that the voting percentage data put out by it on its website was only provisional and was thus subject to change. \"The provisional voter turnout data reported on ECI website is only the tentative number of voters and not the final numbers,\" the EC said in a press release.', 'What this means is that the EC is saying the figures it had put as \"final voter turnout\" was actually provisional data. As a result, since the voter turnout data was not final, a mismatch with votes counted on EVM was natural to occur. The Commission has said that data on the final voter turnout will be released soon.', '\"In earlier elections, it used to take months to collect such authenticated election data from all the returning officers. Even in 2014, it took between two to three months after the declaration of results to collect and collate such data in authenticated form. Due to the innovative IT initiatives taken by the Commission this time, the final data on votes counted has been made available within a few days of declaration of results. The reconciliation of voters\\' data for all parliamentary constituencies (PCs) have been completed in all states and the Index Forms of all 542 PCs are expected to reach ECI from the returning officers shortly, which after compilation, shall be immediately be made public by the Election Commission.\"', '\"Therefore it is incorrect inference to find ghost voters when there are none,\" the Election Commission said.', 'ALSO READ | ', 'Election Commission data shows EVM-VVPAT tally was completely correct', 'ALSO READ | ', 'EC and BJP tampering EVMs together: AAP', 'ALSO WATCH | ', 'Little evidence to show EVMs can be tampered with on counting day', 'For the latest election news, live updates and ', 'election schedule', ' for ', 'Lok Sabha Elections 2019', ', log on to ', 'indiatoday.in', '. Like us on ', 'Facebook', ' or follow us on ', 'Twitter', ' for general election updates.', 'Get real-time alerts and all the ', 'news', ' on your phone with the all-new India Today app. Download from', ' ', ' ', ' Post your comment ', 'Do You Like This Story? ', ' ', ' ', ' ', 'Awesome! ', ' Now share the story ', ' ', ' ', ' ', ' ', ' ', ' ', ' ', ' ', 'Too bad.', \" Tell us what you didn't like in the \", 'comments', ' ', ' ', 'Posted by', 'Mukesh Rawat', ' Tags :', 'Follow', ' Election Commission', 'Follow', ' Election 2019', '\\n', '\\n', '\\n', '\\n', '\\n', '\\n', '\\n', '\\n', '\\n', ' Next ', '\\n', '\\n', ' ', ' ', 'advertisement', '\\n', '\\n', 'READ THIS', ' ', ' ', ' ', ' ', 'Amit Shah joins Modi govt: What may now worry Team Modi-Shah', ' ', ' ', ' ', ' ', \"Miss India 2019 organisers blasted for fair-skinned finalists. Can't tell them apart, says Internet\", ' ', ' ', ' ', ' ', 'From sticking bills for BJP to managing Union home ministry: Rise of Amit Shah', ' ', ' ', ' ', ' ', 'Chris Gayle becomes highest six-hitter in World Cup', 'Recommended', 'Watch Right Now', ' ', ' ', '43:49', ' ', ' ', 'Analysing PM Modi’s top 10 ministers and the challenges ahead for them', ' ', ' ', '03:52', ' ', ' ', 'Heat wave will subside after 2 days in parts of North India: Weather scientist', ' ', ' ', '48:54', ' ', ' ', 'India stares at economic slowdown, can Nirmala Sitharaman meet the challenge?', ' ', ' ', '02:07:47', ' ', ' ', 'Modi Sarkar 2.0: Watch the full swearing-in ceremony', 'Top Takes', ' ', ' ', '01:33', ' ', ' ', 'ED to grill Praful Patel in aviation deal case on June 6', ' ', ' ', '01:20', ' ', ' ', 'My Take: Reviving the economy is a huge challenge, Sitharaman will likely have her hands full', ' ', ' ', '10:42', ' ', ' ', 'Modi Sarkar 2.0: Will the new cabinet deliver?', 'advertisement', '\\n', '\\n', ' ', ' ', ' ', ' ', '\\n', '\\n', ' ', ' INDIATODAY.IN', ' ', ' ', ' ', ' ', 'advertisement', '\\n', '\\n', '\\n', '\\n', ' ', ' ', 'Publications:', 'Business Today', 'Cosmopolitan', 'India Today - Hindi', 'India Today', 'Mail Today', 'Money Today', \"Reader's Digest\", 'Time', 'Television:', 'Aaj Tak', 'Delhi Aaj Tak', 'India Today TV', 'Tez', 'Radio:', 'Ishq FM', 'Education:', 'India Today Education', 'Vasant Valley', 'Best Colleges India 2018', 'Best Universities India 2018', 'Syndications:', 'India content', 'Events:', 'Agenda Aajtak', 'India Today Conclave', 'Robb Report India 2018', 'Sahitya Aaj Tak', 'The Red Lab', 'Distribution:', 'Rate Card', 'Printing:', 'Thomson Press', 'Welfare:', 'Care Today', 'Music:', 'Music Today', 'Useful Links :', 'Partners', 'Press Release', 'Sitemap', 'News', 'Newsletter', 'Privacy Policy', ' ', ' ', 'Copyright © 2019 Living Media India Limited. For reprint rights: Syndications Today', ' ', ' ', 'Download App', 'Copyright © 2019 Living Media India Limited. For reprint rights: ', 'Syndications Today', ' ', '\\n', '\\n', '\\n', '\\n', '\\n', '\\n', '\\n', '\\n', '\\n', '\\n', '\\n', '\\n', '\\n', ' ', '\\n', '\\n', '\\n', '\\n', '\\n', '\\n', '\\n', '\\n', '\\n', '\\n', '\\n', '\\n', '\\n', '\\n']\n"
     ]
    }
   ],
   "source": [
    "print(content)"
   ]
  },
  {
   "cell_type": "code",
   "execution_count": null,
   "metadata": {},
   "outputs": [],
   "source": [
    "# soup = BeautifulSoup(html, 'lxml')\n",
    "# type(soup)"
   ]
  },
  {
   "cell_type": "code",
   "execution_count": null,
   "metadata": {},
   "outputs": [],
   "source": [
    "#content = []"
   ]
  },
  {
   "cell_type": "code",
   "execution_count": null,
   "metadata": {},
   "outputs": [],
   "source": [
    "#content = content.append(all_paragraphs[0].contents[0])\n",
    "#print(all_paragraphs[1].contents[0])\n",
    "#print(all_paragraphs)\n",
    "#for i in range(len(soup)):\n",
    "#    print(type(all_paragraphs[i].contents[0]))\n",
    "#    para = all_paragraphs[i]\n",
    "#    \n",
    "#    print(con)\n",
    "#    if(len(con) > 0):\n",
    "#        content.append(con)\n",
    "    "
   ]
  },
  {
   "cell_type": "code",
   "execution_count": 36,
   "metadata": {},
   "outputs": [],
   "source": [
    "def findSummary(content):\n",
    "    tokens = word_tokenize(content.lower())\n",
    "    sentences = sent_tokenize(content)\n",
    "    stop_words = set(stopwords.words('english') + list(punctuation))\n",
    "    words = [word for word in tokens if (word.isalpha() and word not in stop_words)]\n",
    "#     words[:10]\n",
    "    word_freq = FreqDist(words)\n",
    "    rankings = defaultdict(int)\n",
    "    for i, sentence in enumerate(sentences):\n",
    "        for word in word_tokenize(sentence.lower()):\n",
    "            if word in word_freq:\n",
    "                rankings[i] += word_freq[word]\n",
    "#      rankings    \n",
    "    indexes = nlargest(3, rankings, key=rankings.get)\n",
    "    final_sentences = [sentences[j] for j in sorted(indexes)]\n",
    "    summary = ' '.join(final_sentences)\n",
    "    return summary"
   ]
  },
  {
   "cell_type": "code",
   "execution_count": 37,
   "metadata": {},
   "outputs": [],
   "source": [
    "summary = []\n",
    "full_page = \"\""
   ]
  },
  {
   "cell_type": "code",
   "execution_count": 40,
   "metadata": {},
   "outputs": [],
   "source": [
    "for i in range(len(content)):\n",
    "    if len(content[i]) > 50:\n",
    "        full_page += content[i]"
   ]
  },
  {
   "cell_type": "code",
   "execution_count": 42,
   "metadata": {},
   "outputs": [
    {
     "name": "stdout",
     "output_type": "stream",
     "text": [
      "html[if IEMobile 7]><html class=\"iem7\" lang=\"en\" dir=\"ltr\"><![endif][if lte IE 6]><html class=\"lt-ie9 lt-ie8 lt-ie7\" lang=\"en\" dir=\"ltr\"><![endif][if (IE 7)&(!IEMobile)]><html class=\"lt-ie9 lt-ie8\" lang=\"en\" dir=\"ltr\"><![endif][if IE 8]><html class=\"lt-ie9\" lang=\"en\" dir=\"ltr\"><![endif][if (gte IE 9)|(gt IEMobile 7)]><!<![endif]Ghosts didn't vote in Lok Sabha polls, all were humans, says EC rubbishing claims on data mismatch - India News [if IE]><![endif]\n",
      "\n",
      "[if IEMobile]><meta http-equiv=\"cleartype\" content=\"on\"><![endif] [if lt IE 9]>\n",
      "<script src=\"/sites/all/themes/zen/js/html5-respond.js\"></script>\n",
      "<![endif]\n",
      "\n",
      " Jump to navigation\n",
      "\n",
      "\n",
      "\n",
      "\n",
      "\n",
      "\n",
      "\n",
      "\n",
      "\n",
      "  NewsLIVE TV APPMagazine   Login   Home World Cup 2019 Videos India Movies Tech Best Colleges 2019 Sports Fact Check Trending Auto Television Business Education Lifestyle World FYI Photo Mail Today Care Today Programme        NewsIndia     \n",
      "\n",
      " Ghosts didn't vote in Lok Sabha polls, all were humans, says EC rubbishing claims on data mismatchConcerns have been raised that in many constituencies the total number of votes polled does not match with the votes counted on the result day.advertisement\n",
      "\n",
      "\n",
      "  India Today Web Desk  New DelhiJune 1, 2019UPDATED: June 1, 2019 19:32 IST  Image for representation. (Photo: Reuters)HIGHLIGHTSElection Commission of India issued a clarification saying all votes in 2019 Lok Sabha election were cast by humansEC said voting percentage data on its website was provisionalClarification in response to allegations that there was mismatch between total votes polled and total votes counted on EVMsThe Election Commission of India on Saturday issued a clarification saying all votes in 2019 Lok Sabha election were cast by humans and not ghosts. The clarification was in response to allegations that there was a mismatch between total votes polled and total votes counted on EVMs during the 2019 Lok Sabha elections.Since May 23, when results of the Lok Sabha election were announced, concerns have been raised that in many constituencies the total number of votes polled (as per the voter turnout figures released by EC) does not match with the votes counted on the result day. These alleged excess votes are termed as 'ghost votes'.Media reports had pointed out that in some constituencies the total votes polled was less than that votes counted on EVMs while in some the votes polled were more than the ones counted on May 23.In a report, The Quint claimed that its analysis shows that this mismatch was found in 373 Lok Sabha constituencies. The difference in votes, as per this report, ranged between 18,331 additional votes in Tamil Nadu's Kanchipuram seat to 19,776 deficit votes in Tripura West.The Election Commission has now reasoned that the voting percentage data put out by it on its website was only provisional and was thus subject to change. \"The provisional voter turnout data reported on ECI website is only the tentative number of voters and not the final numbers,\" the EC said in a press release.What this means is that the EC is saying the figures it had put as \"final voter turnout\" was actually provisional data. As a result, since the voter turnout data was not final, a mismatch with votes counted on EVM was natural to occur. The Commission has said that data on the final voter turnout will be released soon.\"In earlier elections, it used to take months to collect such authenticated election data from all the returning officers. Even in 2014, it took between two to three months after the declaration of results to collect and collate such data in authenticated form. Due to the innovative IT initiatives taken by the Commission this time, the final data on votes counted has been made available within a few days of declaration of results. The reconciliation of voters' data for all parliamentary constituencies (PCs) have been completed in all states and the Index Forms of all 542 PCs are expected to reach ECI from the returning officers shortly, which after compilation, shall be immediately be made public by the Election Commission.\"\"Therefore it is incorrect inference to find ghost voters when there are none,\" the Election Commission said.ALSO READ | Election Commission data shows EVM-VVPAT tally was completely correctALSO READ | EC and BJP tampering EVMs together: AAPALSO WATCH | Little evidence to show EVMs can be tampered with on counting dayFor the latest election news, live updates and election schedule for Lok Sabha Elections 2019, log on to indiatoday.in. Like us on Facebook or follow us on Twitter for general election updates.Get real-time alerts and all the news on your phone with the all-new India Today app. Download from   Post your comment Do You Like This Story?    Awesome!  Now share the story         Too bad. Tell us what you didn't like in the comments  Posted byMukesh Rawat Tags :Follow Election CommissionFollow Election 2019\n",
      "\n",
      "\n",
      "\n",
      "\n",
      "\n",
      "\n",
      "\n",
      "\n",
      " Next \n",
      "\n",
      "  advertisement\n",
      "\n",
      "READ THIS    Amit Shah joins Modi govt: What may now worry Team Modi-Shah    Miss India 2019 organisers blasted for fair-skinned finalists. Can't tell them apart, says Internet    From sticking bills for BJP to managing Union home ministry: Rise of Amit Shah    Chris Gayle becomes highest six-hitter in World CupRecommendedWatch Right Now  43:49  Analysing PM Modi’s top 10 ministers and the challenges ahead for them  03:52  Heat wave will subside after 2 days in parts of North India: Weather scientist  48:54  India stares at economic slowdown, can Nirmala Sitharaman meet the challenge?  02:07:47  Modi Sarkar 2.0: Watch the full swearing-in ceremonyTop Takes  01:33  ED to grill Praful Patel in aviation deal case on June 6  01:20  My Take: Reviving the economy is a huge challenge, Sitharaman will likely have her hands full  10:42  Modi Sarkar 2.0: Will the new cabinet deliver?advertisement\n",
      "\n",
      "    \n",
      "\n",
      "  INDIATODAY.IN    advertisement\n",
      "\n",
      "\n",
      "\n",
      "  Publications:Business TodayCosmopolitanIndia Today - HindiIndia TodayMail TodayMoney TodayReader's DigestTimeTelevision:Aaj TakDelhi Aaj TakIndia Today TVTezRadio:Ishq FMEducation:India Today EducationVasant ValleyBest Colleges India 2018Best Universities India 2018Syndications:India contentEvents:Agenda AajtakIndia Today ConclaveRobb Report India 2018Sahitya Aaj TakThe Red LabDistribution:Rate CardPrinting:Thomson PressWelfare:Care TodayMusic:Music TodayUseful Links :PartnersPress ReleaseSitemapNewsNewsletterPrivacy Policy  Copyright © 2019 Living Media India Limited. For reprint rights: Syndications Today  Download AppCopyright © 2019 Living Media India Limited. For reprint rights: Syndications Today \n",
      "\n",
      "\n",
      "\n",
      "\n",
      "\n",
      "\n",
      "\n",
      "\n",
      "\n",
      "\n",
      "\n",
      "\n",
      " \n",
      "\n",
      "\n",
      "\n",
      "\n",
      "\n",
      "\n",
      "\n",
      "\n",
      "\n",
      "\n",
      "\n",
      "\n",
      "\n",
      "[if IEMobile 7]><html class=\"iem7\" lang=\"en\" dir=\"ltr\"><![endif][if lte IE 6]><html class=\"lt-ie9 lt-ie8 lt-ie7\" lang=\"en\" dir=\"ltr\"><![endif][if (IE 7)&(!IEMobile)]><html class=\"lt-ie9 lt-ie8\" lang=\"en\" dir=\"ltr\"><![endif][if IE 8]><html class=\"lt-ie9\" lang=\"en\" dir=\"ltr\"><![endif]Ghosts didn't vote in Lok Sabha polls, all were humans, says EC rubbishing claims on data mismatch - India News[if IEMobile]><meta http-equiv=\"cleartype\" content=\"on\"><![endif][if lt IE 9]>\n",
      "<script src=\"/sites/all/themes/zen/js/html5-respond.js\"></script>\n",
      "<![endif]Ghosts didn't vote in Lok Sabha polls, all were humans, says EC rubbishing claims on data mismatchConcerns have been raised that in many constituencies the total number of votes polled does not match with the votes counted on the result day.Election Commission of India issued a clarification saying all votes in 2019 Lok Sabha election were cast by humansEC said voting percentage data on its website was provisionalClarification in response to allegations that there was mismatch between total votes polled and total votes counted on EVMsThe Election Commission of India on Saturday issued a clarification saying all votes in 2019 Lok Sabha election were cast by humans and not ghosts. The clarification was in response to allegations that there was a mismatch between total votes polled and total votes counted on EVMs during the 2019 Lok Sabha elections.Since May 23, when results of the Lok Sabha election were announced, concerns have been raised that in many constituencies the total number of votes polled (as per the voter turnout figures released by EC) does not match with the votes counted on the result day. These alleged excess votes are termed as 'ghost votes'.Media reports had pointed out that in some constituencies the total votes polled was less than that votes counted on EVMs while in some the votes polled were more than the ones counted on May 23.claimed that its analysis shows that this mismatch was found in 373 Lok Sabha constituencies. The difference in votes, as per this report, ranged between 18,331 additional votes in Tamil Nadu's Kanchipuram seat to 19,776 deficit votes in Tripura West.The Election Commission has now reasoned that the voting percentage data put out by it on its website was only provisional and was thus subject to change. \"The provisional voter turnout data reported on ECI website is only the tentative number of voters and not the final numbers,\" the EC said in a press release.What this means is that the EC is saying the figures it had put as \"final voter turnout\" was actually provisional data. As a result, since the voter turnout data was not final, a mismatch with votes counted on EVM was natural to occur. The Commission has said that data on the final voter turnout will be released soon.\"In earlier elections, it used to take months to collect such authenticated election data from all the returning officers. Even in 2014, it took between two to three months after the declaration of results to collect and collate such data in authenticated form. Due to the innovative IT initiatives taken by the Commission this time, the final data on votes counted has been made available within a few days of declaration of results. The reconciliation of voters' data for all parliamentary constituencies (PCs) have been completed in all states and the Index Forms of all 542 PCs are expected to reach ECI from the returning officers shortly, which after compilation, shall be immediately be made public by the Election Commission.\"\"Therefore it is incorrect inference to find ghost voters when there are none,\" the Election Commission said.Election Commission data shows EVM-VVPAT tally was completely correctLittle evidence to show EVMs can be tampered with on counting day on your phone with the all-new India Today app. Download fromAmit Shah joins Modi govt: What may now worry Team Modi-ShahMiss India 2019 organisers blasted for fair-skinned finalists. Can't tell them apart, says InternetFrom sticking bills for BJP to managing Union home ministry: Rise of Amit ShahChris Gayle becomes highest six-hitter in World CupAnalysing PM Modi’s top 10 ministers and the challenges ahead for themHeat wave will subside after 2 days in parts of North India: Weather scientistIndia stares at economic slowdown, can Nirmala Sitharaman meet the challenge?Modi Sarkar 2.0: Watch the full swearing-in ceremonyED to grill Praful Patel in aviation deal case on June 6My Take: Reviving the economy is a huge challenge, Sitharaman will likely have her hands fullCopyright © 2019 Living Media India Limited. For reprint rights: Syndications TodayCopyright © 2019 Living Media India Limited. For reprint rights: \n",
      "(Photo: Reuters)HIGHLIGHTSElection Commission of India issued a clarification saying all votes in 2019 Lok Sabha election were cast by humansEC said voting percentage data on its website was provisionalClarification in response to allegations that there was mismatch between total votes polled and total votes counted on EVMsThe Election Commission of India on Saturday issued a clarification saying all votes in 2019 Lok Sabha election were cast by humans and not ghosts. The clarification was in response to allegations that there was a mismatch between total votes polled and total votes counted on EVMs during the 2019 Lok Sabha elections.Since May 23, when results of the Lok Sabha election were announced, concerns have been raised that in many constituencies the total number of votes polled (as per the voter turnout figures released by EC) does not match with the votes counted on the result day. [endif]Ghosts didn't vote in Lok Sabha polls, all were humans, says EC rubbishing claims on data mismatchConcerns have been raised that in many constituencies the total number of votes polled does not match with the votes counted on the result day.Election Commission of India issued a clarification saying all votes in 2019 Lok Sabha election were cast by humansEC said voting percentage data on its website was provisionalClarification in response to allegations that there was mismatch between total votes polled and total votes counted on EVMsThe Election Commission of India on Saturday issued a clarification saying all votes in 2019 Lok Sabha election were cast by humans and not ghosts.\n"
     ]
    }
   ],
   "source": [
    "print(full_page)\n",
    "print(findSummary(full_page))"
   ]
  },
  {
   "cell_type": "code",
   "execution_count": null,
   "metadata": {},
   "outputs": [],
   "source": []
  }
 ],
 "metadata": {
  "kernelspec": {
   "display_name": "Python 3",
   "language": "python",
   "name": "python3"
  },
  "language_info": {
   "codemirror_mode": {
    "name": "ipython",
    "version": 3
   },
   "file_extension": ".py",
   "mimetype": "text/x-python",
   "name": "python",
   "nbconvert_exporter": "python",
   "pygments_lexer": "ipython3",
   "version": "3.7.1"
  }
 },
 "nbformat": 4,
 "nbformat_minor": 2
}
